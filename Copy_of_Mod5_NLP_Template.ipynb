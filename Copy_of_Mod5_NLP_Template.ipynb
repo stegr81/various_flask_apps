{
  "nbformat": 4,
  "nbformat_minor": 0,
  "metadata": {
    "colab": {
      "name": "Copy of Mod5_NLP_Template.ipynb",
      "provenance": [],
      "collapsed_sections": [],
      "include_colab_link": true
    },
    "kernelspec": {
      "name": "python3",
      "display_name": "Python 3"
    }
  },
  "cells": [
    {
      "cell_type": "markdown",
      "metadata": {
        "id": "view-in-github",
        "colab_type": "text"
      },
      "source": [
        "<a href=\"https://colab.research.google.com/github/stegrieve/flask/blob/master/Copy_of_Mod5_NLP_Template.ipynb\" target=\"_parent\"><img src=\"https://colab.research.google.com/assets/colab-badge.svg\" alt=\"Open In Colab\"/></a>"
      ]
    },
    {
      "cell_type": "code",
      "metadata": {
        "id": "n8_8xLvOK4AS",
        "colab_type": "code",
        "colab": {}
      },
      "source": [
        "# This provides a framework for functions that will be tested as part of module 5 NLP\n",
        "# You should test your submissions against the cases listed below, they will then be \n",
        "# tested against further unseen cases before being reviewed manually."
      ],
      "execution_count": null,
      "outputs": []
    },
    {
      "cell_type": "markdown",
      "metadata": {
        "id": "luyWe9n6K_u5",
        "colab_type": "text"
      },
      "source": [
        "**THE ASSIGNMENT**\n",
        "\n",
        "Populate the notebook below to create functions that achieve the following tasks.\n",
        "They must also pass the tests included at the bottom of the notebook. \n",
        "**Part 1**: produce a scraper function that can return the following information when given a URL from the BBC news page.  This function must be iterable - it can be used in a loop to examine a number of URLs and return the following information as a JSON.\n",
        "\n",
        "a) URL (provided.  For example https://www.bbc.co.uk/news/uk-51004218)\n",
        "\n",
        "b) Title\n",
        "\n",
        "c) Date\n",
        "\n",
        "d) Content (the main body of article)\n",
        "\n",
        "**Part 2**:  Write a function that when given a block of text (as a string)  returns all the following entities in a json object,  It is suggested that you use a pre-built or custom entity recogniser rather than a rules based method.  There are entity recognisers in the following python packages: NLTK, spacy\n",
        "\n",
        "a) people\n",
        "\n",
        "b) places\n",
        "\n",
        "c) organisations \n",
        "\n",
        "**CONSTRAINTS**\n",
        "The code must run in Google Colab.\n",
        "\n",
        "Do not change the name of the functions or their inputs.\n",
        "\n",
        "Your functions will be expected to return outputs as specified in the template functions.\n",
        "\n",
        "You may add additional functions as desired.\n",
        "\n",
        "Do not change the test cases at the bottom."
      ]
    },
    {
      "cell_type": "code",
      "metadata": {
        "id": "0kV2yn3KLU68",
        "colab_type": "code",
        "colab": {}
      },
      "source": [
        "#Do not chance these dependencies\n",
        "import pytest\n",
        "# Import your dependencies here\n",
        "from bs4 import BeautifulSoup\n",
        "import requests, json, spacy, nltk"
      ],
      "execution_count": 13,
      "outputs": []
    },
    {
      "cell_type": "code",
      "metadata": {
        "id": "GwmJ7k7rnyfW",
        "colab_type": "code",
        "colab": {}
      },
      "source": [
        "url = 'https://www.bbc.co.uk/news/election-us-2020-53844799'"
      ],
      "execution_count": 2,
      "outputs": []
    },
    {
      "cell_type": "code",
      "metadata": {
        "id": "MWK56SKZoJck",
        "colab_type": "code",
        "colab": {}
      },
      "source": [
        "article = requests.get(url).text\n",
        "soup = BeautifulSoup(article, 'html.parser')"
      ],
      "execution_count": 3,
      "outputs": []
    },
    {
      "cell_type": "code",
      "metadata": {
        "id": "jQ10J1WLoiVN",
        "colab_type": "code",
        "colab": {}
      },
      "source": [
        "content = soup.find(property='articleBody')\n",
        "content = [content.text for content in content.find_all('p')]\n",
        "content = ' '.join(content)"
      ],
      "execution_count": 4,
      "outputs": []
    },
    {
      "cell_type": "code",
      "metadata": {
        "id": "eSuOPqD9oi0n",
        "colab_type": "code",
        "colab": {}
      },
      "source": [
        "title = soup.find(class_='story-body__h1').text"
      ],
      "execution_count": 5,
      "outputs": []
    },
    {
      "cell_type": "code",
      "metadata": {
        "id": "a_fP0ZV2pQm_",
        "colab_type": "code",
        "colab": {}
      },
      "source": [
        "date = soup.find('ul', class_='mini-info-list').text.strip()"
      ],
      "execution_count": 6,
      "outputs": []
    },
    {
      "cell_type": "code",
      "metadata": {
        "id": "uWBWRZHcs-tE",
        "colab_type": "code",
        "colab": {}
      },
      "source": [
        "output = {'URL':url, 'Title':title, 'Date_published':date, 'Content':content}\n",
        "json_output = json.dumps(output)\n",
        "results_json = json.loads(json_output)"
      ],
      "execution_count": 7,
      "outputs": []
    },
    {
      "cell_type": "code",
      "metadata": {
        "id": "0HUXoePE2LNV",
        "colab_type": "code",
        "colab": {
          "base_uri": "https://localhost:8080/",
          "height": 109
        },
        "outputId": "38a734d6-f554-40fa-caaf-f0b271471dbc"
      },
      "source": [
        "results_json"
      ],
      "execution_count": 8,
      "outputs": [
        {
          "output_type": "execute_result",
          "data": {
            "text/plain": [
              "{'Content': 'Kamala Harris has accepted her historic nomination as the US Democratic party\\'s vice-presidential candidate, running with Joe Biden for the White House. In a speech to her party convention, the first US woman of colour on a major-party ticket assailed President Donald Trump\\'s \"failure of leadership\". The California senator pledged to speak \"truths\" to the American public.  Mr Biden and Ms Harris will challenge Mr Trump and his Vice-President Mike Pence in the election on 3 November. The coronavirus pandemic has forced Democrats to abandon the cheering throngs, fanfare and razzmatazz of the typical party convention in favour of a virtual event of pre-recorded and live speeches.  The grand finale of the four-night conference will see Mr Biden, the Democratic presidential nominee, deliver a speech on Thursday. \"We\\'re at an inflection point,\" she said, speaking live from a largely empty hotel ballroom in Mr Biden\\'s hometown of Wilmington, Delaware. Attacking Mr Trump, she continued: \"The constant chaos leaves us adrift. The incompetence makes us feel afraid. The callousness makes us feel alone. It\\'s a lot. \"And here\\'s the thing: We can do better and deserve so much more. \"We must elect a president who will bring something different, something better, and do the important work.\" Ms Harris - the child of immigrants from India and Jamaica - pledged that she and Mr Biden would revive a country fractured by the coronavirus pandemic and racial tension. \"There is no vaccine for racism,\" she said. \"We\\'ve got to do the work.\" She continued: \"Donald Trump\\'s failure has cost lives and livelihoods.\"  \"Right now, we have a president who turns our tragedies into political weapons,\" she added.  President Trump swiftly hit back, tweeting about Ms Harris\\' previous attack on Mr Biden over his record on race issues, while they were both rivals for the Democratic White House nomination.  BUT DIDN’T SHE CALL HIM A RACIST??? DIDN’T SHE SAY HE WAS INCOMPETENT??? End of Twitter post  by @realDonaldTrump The moment came during a live TV debate last year, though Ms Harris prefaced those remarks by telling Mr Biden: \"I do not believe you are a racist.\" Also on Wednesday, former US President Barack Obama launched his most withering direct attack yet on Mr Trump, accusing his Republican successor of treating the White House like \"one more reality show\". The now-official Democratic vice-presidential nominee faced a bit of a challenge, having to directly follow Barack Obama, the party\\'s most beloved and rhetorically gifted politician. What Ms Harris offered was a bit of an amalgam - one that sometimes connected and occasionally plodded. It was part biographical introduction, part sales pitch for Mr Biden and - most notably - part frontal attack on structural racism. Although she\\'s been attacked by some on the left for her prosecutorial background, Ms Harris tried to turn that into a benefit for a general election audience, speaking of how she always tries to fight for justice. Her speech delivered with smiles and warmth, but it took place in a rather haunting environment - a room constructed to replicate a party convention hall, but devoid of the cheering crowds. It all had a slightly post-apocalyptic feeling, which makes it seem that the emptiness of the current pandemic-stricken nation is a feeling Democrats want to highlight - and lay at Mr Trump\\'s feet. The first black woman and South Asian American on a major US presidential ticket, she said she inherited a passion for public service from her immigrant mother, Shyamala Gopalan, a biologist. \"I keep thinking about that 25-year-old Indian woman, all of five feet tall, who gave birth to me.  \"On that day, she probably could have never imagined that I would be standing before you now and speaking these words: I accept your nomination for vice-president of the United States of America.\" Ms Harris is a former San Francisco district attorney and California attorney general who joined the Senate in 2017.  She made headlines by grilling two Trump nominees, Brett Kavanaugh for Supreme Court justice and William Barr for attorney general, during Senate committee hearings.  Ms Harris launched her presidential bid in January last year as a top-tier candidate, only to see her campaign fizzle amid criticism that she had struggled to articulate a coherent vision for office. Mr Trump\\'s predecessor Barack Obama launched a fierce attack on the current occupant of the White House. Mr Obama, who has largely avoided attacks on Mr Trump since leaving office, accused him of treating the US presidency like \"one more reality show\". The former US president said his Republican successor \"hasn\\'t grown into the job because he can\\'t\". At the White House, Mr Trump hit back that he was only elected because of the \"horror\" Mr Obama left Americans. On Wednesday night, Hillary Clinton, the 2016 Democratic nominee, also assailed the man who thwarted her White House ambitions. Speaking from her home in Chappaquiddick, New York, she said: \"I wish Donald Trump had been a better president. But, sadly, he is who he is.\" Gabrielle Giffords, the former Arizona congresswoman who was shot in the head when greeting supporters in 2011, highlighted gun violence in the US. \"Words once came easily, but today I struggle to speak. But I have not lost my voice,\" she said.  \"America needs all of us to speak out, even when you have to fight to find the words. We are at a crossroads. We can let the shooting continue, or we can act. We can protect our families, our future. We can vote.\"',\n",
              " 'Date_published': '20 August 2020',\n",
              " 'Title': \"DNC 2020: Kamala Harris blasts Trump 'failure of leadership'\",\n",
              " 'URL': 'https://www.bbc.co.uk/news/election-us-2020-53844799'}"
            ]
          },
          "metadata": {
            "tags": []
          },
          "execution_count": 8
        }
      ]
    },
    {
      "cell_type": "code",
      "metadata": {
        "id": "auv9_6KdK8HS",
        "colab_type": "code",
        "colab": {}
      },
      "source": [
        "def bbc_scraper(url):\n",
        "    \"\"\"\n",
        "    This function should take a url, which will relate to a bbc news article \n",
        "    and return a json object containing the following fields:\n",
        "    1) URL (provided.  For example https://www.bbc.co.uk/news/uk-51004218)\n",
        "    2) Title\n",
        "    3) Date_published\n",
        "    4) Content --(the main body of article, this must be one continuous string without linebreaks)\n",
        "    The function must be iterable (If placed in a for loop and provided with several URLs in \n",
        "    turn return the correct json object for each time it is invoked without any manual intervention)\n",
        "    \"\"\"\n",
        "\n",
        "    return results_json"
      ],
      "execution_count": null,
      "outputs": []
    },
    {
      "cell_type": "code",
      "metadata": {
        "id": "-NyV6hi7xqHc",
        "colab_type": "code",
        "colab": {}
      },
      "source": [
        "# import spacy language model\n",
        "nlp = spacy.load('en_core_web_sm')"
      ],
      "execution_count": 24,
      "outputs": []
    },
    {
      "cell_type": "code",
      "metadata": {
        "id": "wZCdAmjf-SpN",
        "colab_type": "code",
        "colab": {}
      },
      "source": [
        "people = []\n",
        "places = []\n",
        "organisations = []\n",
        "doc = nlp(content)\n",
        "for token in doc.ents:\n",
        "        if token.label_ == 'PERSON':\n",
        "            people.append(str(token.lemma_)) #all added as strings to enable easier manipulation later\n",
        "        if token.label_ == 'GPE' or token.label_ == 'FAC': \n",
        "            places.append(str(token))\n",
        "        if token.label_ == 'ORG':\n",
        "            organisations.append(str(token))"
      ],
      "execution_count": 108,
      "outputs": []
    },
    {
      "cell_type": "code",
      "metadata": {
        "id": "zXz2FMEDB0sh",
        "colab_type": "code",
        "colab": {}
      },
      "source": [
        "# initially deduping the lists\n",
        "people = list(dict.fromkeys(people))\n",
        "places = list(dict.fromkeys(places))\n",
        "organisations = list(dict.fromkeys(organisations))\n",
        "# create the json output\n",
        "ent_out = {'People':people,'Places':places,'Organisations':organisations}\n",
        "ent_out = json.dumps(ent_out)\n",
        "entities_json = json.loads(ent_out)"
      ],
      "execution_count": null,
      "outputs": []
    },
    {
      "cell_type": "code",
      "metadata": {
        "id": "QJ1I0tvDRbOM",
        "colab_type": "code",
        "colab": {
          "base_uri": "https://localhost:8080/",
          "height": 647
        },
        "outputId": "305fae1e-74ce-4bbe-95ad-4a4ccefde5e8"
      },
      "source": [
        "entities_json"
      ],
      "execution_count": 111,
      "outputs": [
        {
          "output_type": "execute_result",
          "data": {
            "text/plain": [
              "{'Organisations': [\"the US Democratic party's\",\n",
              "  'White House',\n",
              "  'the White House',\n",
              "  'Senate',\n",
              "  'Supreme Court'],\n",
              " 'People': ['Kamala Harris',\n",
              "  'Joe Biden',\n",
              "  'Donald Trump',\n",
              "  'Ms Harris',\n",
              "  'Mr Trump',\n",
              "  'Mike Pence',\n",
              "  'Mr Biden',\n",
              "  'Biden',\n",
              "  'Trump',\n",
              "  \"Donald Trump 's\",\n",
              "  \"Ms Harris '\",\n",
              "  'Barack Obama',\n",
              "  'Shyamala Gopalan',\n",
              "  'Brett Kavanaugh',\n",
              "  'William Barr',\n",
              "  'Hillary Clinton',\n",
              "  'Gabrielle Giffords'],\n",
              " 'Places': ['the White House',\n",
              "  'US',\n",
              "  'California',\n",
              "  'Wilmington',\n",
              "  'Delaware',\n",
              "  'India',\n",
              "  'Jamaica',\n",
              "  'the United States of America',\n",
              "  'San Francisco',\n",
              "  'Chappaquiddick',\n",
              "  'New York',\n",
              "  'Arizona',\n",
              "  'America']}"
            ]
          },
          "metadata": {
            "tags": []
          },
          "execution_count": 111
        }
      ]
    },
    {
      "cell_type": "code",
      "metadata": {
        "id": "DnBUfWdLIXzy",
        "colab_type": "code",
        "colab": {
          "base_uri": "https://localhost:8080/",
          "height": 35
        },
        "outputId": "7f771d44-f879-4fec-c572-f2f82714a9e9"
      },
      "source": [
        "string = \"Donald Trump's\"\n",
        "test = nlp(string)\n",
        "for token in test.ents:\n",
        "    print(token.lemma_)"
      ],
      "execution_count": 97,
      "outputs": [
        {
          "output_type": "stream",
          "text": [
            "Donald Trump 's\n"
          ],
          "name": "stdout"
        }
      ]
    },
    {
      "cell_type": "code",
      "metadata": {
        "id": "bjCrhHRnATWa",
        "colab_type": "code",
        "colab": {}
      },
      "source": [
        "doc_string = nlp(content)\n",
        "for token in doc_string.ents:\n",
        "    print(token.text, '----->', token.lemma_, '----->', token.label_, '----->', str(spacy.explain(token.label_)))"
      ],
      "execution_count": null,
      "outputs": []
    },
    {
      "cell_type": "code",
      "metadata": {
        "id": "HxMMy4V94ftL",
        "colab_type": "code",
        "colab": {}
      },
      "source": [
        "words = nltk.FreqDist()"
      ],
      "execution_count": 16,
      "outputs": []
    },
    {
      "cell_type": "code",
      "metadata": {
        "id": "5vkvxbsX5VL7",
        "colab_type": "code",
        "colab": {}
      },
      "source": [
        "for word in nltk.tokenize.word_tokenize(content):\n",
        "    words[word.lower()]+=1"
      ],
      "execution_count": 21,
      "outputs": []
    },
    {
      "cell_type": "code",
      "metadata": {
        "id": "FDvLnOzZK79s",
        "colab_type": "code",
        "colab": {}
      },
      "source": [
        "def extract_entities(string):\n",
        "    \"\"\"\n",
        "    This function should return a json containing the:\n",
        "    1) People\n",
        "    2) Places\n",
        "    3) Organisations \n",
        "    in the text string provided.\n",
        "    \"\"\"\n",
        "\n",
        "    return entities_json"
      ],
      "execution_count": null,
      "outputs": []
    },
    {
      "cell_type": "code",
      "metadata": {
        "id": "iuiH-IhIK73H",
        "colab_type": "code",
        "colab": {}
      },
      "source": [
        "####################################################################\n",
        "# Test cases\n",
        "\n",
        "def test_bbc_scrape():\n",
        "    results = {'URL': 'https://www.bbc.co.uk/news/uk-52255054',\n",
        "                'Title': 'Coronavirus: \\'We need Easter as much as ever,\\' says the Queen',\n",
        "                'Date_published': '11 April 2020',\n",
        "                'Content': '\"Coronavirus will not overcome us,\" the Queen has said, in an Easter message to the nation. While celebrations would be different for many this year, she said: \"We need Easter as much as ever.\" Referencing the tradition of lighting candles to mark the occasion, she said: \"As dark as death can be - particularly for those suffering with grief - light and life are greater.\" It comes as the number of coronavirus deaths in UK hospitals reached 9,875. Speaking from Windsor Castle, the Queen said many religions had festivals celebrating light overcoming darkness, which often featured the lighting of candles. She said: \"They seem to speak to every culture, and appeal to people of all faiths, and of none. \"They are lit on birthday cakes and to mark family anniversaries, when we gather happily around a source of light. It unites us.\" The monarch, who is head of the Church of England, said: \"As darkness falls on the Saturday before Easter Day, many Christians would normally light candles together.  \"In church, one light would pass to another, spreading slowly and then more rapidly as more candles are lit. It\\'s a way of showing how the good news of Christ\\'s resurrection has been passed on from the first Easter by every generation until now.\" As far as we know, this is the first time the Queen has released an Easter message. And coming as it does less than a week since the televised broadcast to the nation, it underlines the gravity of the situation as it is regarded by the monarch. It serves two purposes really; it is underlining the government\\'s public safety message, acknowledging Easter will be difficult for us but by keeping apart we keep others safe, and the broader Christian message of hope and reassurance.  We know how important her Christian faith is, and coming on the eve of Easter Sunday, it is clearly a significant time for people of all faiths, but particularly Christian faith. She said the discovery of the risen Christ on the first Easter Day gave his followers new hope and fresh purpose, adding that we could all take heart from this.  Wishing everyone of all faiths and denominations a blessed Easter, she said: \"May the living flame of the Easter hope be a steady guide as we face the future.\" The Queen, 93, recorded the audio message in the White Drawing Room at Windsor Castle, with one sound engineer in the next room.  The Palace described it as \"Her Majesty\\'s contribution to those who are celebrating Easter privately\".  It follows a speech on Sunday, in which the monarch delivered a rallying message to the nation. In it, she said the UK \"will succeed\" in its fight against the coronavirus pandemic, thanked people for following government rules about staying at home and praised those \"coming together to help others\". She also thanked key workers, saying \"every hour\" of work \"brings us closer to a return to more normal times\".'}\n",
        "    scraper_result = bbc_scraper('https://www.bbc.co.uk/news/uk-52255054')\n",
        "    assert json.loads(scraper_result) == results\n",
        "\n",
        "\n",
        "def test_extract_entities_amazon_org():\n",
        "    input_string = \"I work for Amazon.\"\n",
        "    results_dict = {'people':[],\n",
        "                    'places':[],\n",
        "                    'organisations': ['Amazon']\n",
        "                    }\n",
        "    extracted_entities_results = extract_entities(input_string)\n",
        "    assert json.loads(extracted_entities_results) == results_dict\n",
        "\n",
        "\n",
        "def test_extract_entities_name():\n",
        "    input_string = \"My name is Bob\"\n",
        "    results_dict = {'people':['Bob'],\n",
        "                    'places':[],\n",
        "                    'organisations': []\n",
        "                    }\n",
        "    extracted_entities_results = extract_entities(input_string)\n",
        "    assert json.loads(extracted_entities_results) == results_dict"
      ],
      "execution_count": 112,
      "outputs": []
    },
    {
      "cell_type": "code",
      "metadata": {
        "id": "-EtNG-mJK7pt",
        "colab_type": "code",
        "colab": {
          "base_uri": "https://localhost:8080/",
          "height": 333
        },
        "outputId": "19e16ec5-794e-4c83-fea1-8a69912bf577"
      },
      "source": [
        "test_bbc_scrape()\n",
        "test_extract_entities_amazon_org()\n",
        "test_extract_entities_name()"
      ],
      "execution_count": 113,
      "outputs": [
        {
          "output_type": "error",
          "ename": "NameError",
          "evalue": "ignored",
          "traceback": [
            "\u001b[0;31m---------------------------------------------------------------------------\u001b[0m",
            "\u001b[0;31mNameError\u001b[0m                                 Traceback (most recent call last)",
            "\u001b[0;32m<ipython-input-113-fe6b0252085f>\u001b[0m in \u001b[0;36m<module>\u001b[0;34m()\u001b[0m\n\u001b[1;32m      1\u001b[0m \u001b[0;31m#test_bbc_scrape()\u001b[0m\u001b[0;34m\u001b[0m\u001b[0;34m\u001b[0m\u001b[0;34m\u001b[0m\u001b[0m\n\u001b[0;32m----> 2\u001b[0;31m \u001b[0mtest_extract_entities_amazon_org\u001b[0m\u001b[0;34m(\u001b[0m\u001b[0;34m)\u001b[0m\u001b[0;34m\u001b[0m\u001b[0;34m\u001b[0m\u001b[0m\n\u001b[0m\u001b[1;32m      3\u001b[0m \u001b[0mtest_extract_entities_name\u001b[0m\u001b[0;34m(\u001b[0m\u001b[0;34m)\u001b[0m\u001b[0;34m\u001b[0m\u001b[0;34m\u001b[0m\u001b[0m\n",
            "\u001b[0;32m<ipython-input-112-d8332727e3b0>\u001b[0m in \u001b[0;36mtest_extract_entities_amazon_org\u001b[0;34m()\u001b[0m\n\u001b[1;32m     17\u001b[0m                     \u001b[0;34m'organisations'\u001b[0m\u001b[0;34m:\u001b[0m \u001b[0;34m[\u001b[0m\u001b[0;34m'Amazon'\u001b[0m\u001b[0;34m]\u001b[0m\u001b[0;34m\u001b[0m\u001b[0;34m\u001b[0m\u001b[0m\n\u001b[1;32m     18\u001b[0m                     }\n\u001b[0;32m---> 19\u001b[0;31m     \u001b[0mextracted_entities_results\u001b[0m \u001b[0;34m=\u001b[0m \u001b[0mextract_entities\u001b[0m\u001b[0;34m(\u001b[0m\u001b[0minput_string\u001b[0m\u001b[0;34m)\u001b[0m\u001b[0;34m\u001b[0m\u001b[0;34m\u001b[0m\u001b[0m\n\u001b[0m\u001b[1;32m     20\u001b[0m     \u001b[0;32massert\u001b[0m \u001b[0mjson\u001b[0m\u001b[0;34m.\u001b[0m\u001b[0mloads\u001b[0m\u001b[0;34m(\u001b[0m\u001b[0mextracted_entities_results\u001b[0m\u001b[0;34m)\u001b[0m \u001b[0;34m==\u001b[0m \u001b[0mresults_dict\u001b[0m\u001b[0;34m\u001b[0m\u001b[0;34m\u001b[0m\u001b[0m\n\u001b[1;32m     21\u001b[0m \u001b[0;34m\u001b[0m\u001b[0m\n",
            "\u001b[0;31mNameError\u001b[0m: name 'extract_entities' is not defined"
          ]
        }
      ]
    }
  ]
}